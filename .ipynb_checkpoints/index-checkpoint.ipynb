{
 "cells": [
  {
   "cell_type": "code",
   "execution_count": 179,
   "id": "ca59fd6f-5356-4b59-8a39-48c557356a25",
   "metadata": {},
   "outputs": [],
   "source": [
    "import pandas as pd\n",
    "from src.questions import *\n",
    "from src.slides import slides\n",
    "import matplotlib.pyplot as plt"
   ]
  },
  {
   "cell_type": "markdown",
   "id": "95d5b240-6ecb-4a94-a200-211dce840fd4",
   "metadata": {},
   "source": [
    "**Say we have an unorganized drawer of pens and pencils. The pens and pencils are made with the following materials:**\n",
    "\n",
    "![](static/writing_utensils.png)\n",
    "\n",
    "\n",
    "In the cell below, we import data for this drawer:\n",
    "\n",
    "> For the type column, 0 = pencil and 1 = pen"
   ]
  },
  {
   "cell_type": "code",
   "execution_count": 2,
   "id": "66a02db8-e579-4d42-af28-b0c19c68271f",
   "metadata": {},
   "outputs": [],
   "source": [
    "df = pd.read_csv('data/writing_utensils.csv')"
   ]
  },
  {
   "cell_type": "markdown",
   "id": "e347ddef-d04e-4298-975e-a0f7c2c9c5e1",
   "metadata": {},
   "source": [
    "Now let's see how many pens (`1`) and how many pencils (`0`) fall within each of our features."
   ]
  },
  {
   "cell_type": "code",
   "execution_count": 3,
   "id": "f7b05867-8c9b-4419-9351-693733a3bf96",
   "metadata": {},
   "outputs": [
    {
     "data": {
      "text/html": [
       "<div>\n",
       "<style scoped>\n",
       "    .dataframe tbody tr th:only-of-type {\n",
       "        vertical-align: middle;\n",
       "    }\n",
       "\n",
       "    .dataframe tbody tr th {\n",
       "        vertical-align: top;\n",
       "    }\n",
       "\n",
       "    .dataframe thead th {\n",
       "        text-align: right;\n",
       "    }\n",
       "</style>\n",
       "<table border=\"1\" class=\"dataframe\">\n",
       "  <thead>\n",
       "    <tr style=\"text-align: right;\">\n",
       "      <th></th>\n",
       "      <th>wood</th>\n",
       "      <th>metal</th>\n",
       "      <th>plastic</th>\n",
       "      <th>has_cap</th>\n",
       "    </tr>\n",
       "    <tr>\n",
       "      <th>type</th>\n",
       "      <th></th>\n",
       "      <th></th>\n",
       "      <th></th>\n",
       "      <th></th>\n",
       "    </tr>\n",
       "  </thead>\n",
       "  <tbody>\n",
       "    <tr>\n",
       "      <th>0</th>\n",
       "      <td>15</td>\n",
       "      <td>4</td>\n",
       "      <td>7</td>\n",
       "      <td>0</td>\n",
       "    </tr>\n",
       "    <tr>\n",
       "      <th>1</th>\n",
       "      <td>0</td>\n",
       "      <td>15</td>\n",
       "      <td>9</td>\n",
       "      <td>9</td>\n",
       "    </tr>\n",
       "  </tbody>\n",
       "</table>\n",
       "</div>"
      ],
      "text/plain": [
       "      wood  metal  plastic  has_cap\n",
       "type                               \n",
       "0       15      4        7        0\n",
       "1        0     15        9        9"
      ]
     },
     "execution_count": 3,
     "metadata": {},
     "output_type": "execute_result"
    }
   ],
   "source": [
    "df.groupby('type').sum()"
   ]
  },
  {
   "cell_type": "code",
   "execution_count": 4,
   "id": "9c0c0d6b-bed8-4fa6-9d31-e1f3fa8c2042",
   "metadata": {},
   "outputs": [
    {
     "data": {
      "application/vnd.jupyter.widget-view+json": {
       "model_id": "b6f35a42525944e9adf9b88bbe255b77",
       "version_major": 2,
       "version_minor": 0
      },
      "text/plain": [
       "VBox(children=(Output(layout=Layout(bottom='5px', width='auto'), outputs=({'output_type': 'display_data', 'dat…"
      ]
     },
     "metadata": {},
     "output_type": "display_data"
    }
   ],
   "source": [
    "question_1.display()"
   ]
  },
  {
   "cell_type": "markdown",
   "id": "9e55b33f-5060-4f94-9475-be753c6bc49e",
   "metadata": {},
   "source": [
    "Run the cell below and click the `>` button to view the full decision tree for this problem!"
   ]
  },
  {
   "cell_type": "code",
   "execution_count": 5,
   "id": "7fa74264-1183-41a0-b2e8-2a115bc82be4",
   "metadata": {},
   "outputs": [
    {
     "data": {
      "text/html": [
       "<iframe src=\"https://docs.google.com/presentation/d/e/2PACX-1vRjpSr7iFUUJLV8RrrLtBF3czpuhV4iKnAylzbhDLlrvYirUO6hmNxyEerJjC8uTyIbA8WpDN1ZvnHR/embed?start=false&loop=false&delayms=3000\" frameborder=\"0\" width=\"500\" height=\"300\" allowfullscreen=\"true\" mozallowfullscreen=\"true\" webkitallowfullscreen=\"true\"></iframe>"
      ],
      "text/plain": [
       "<IPython.core.display.HTML object>"
      ]
     },
     "execution_count": 5,
     "metadata": {},
     "output_type": "execute_result"
    }
   ],
   "source": [
    "# Run this cell unchanged\n",
    "slides"
   ]
  },
  {
   "cell_type": "markdown",
   "id": "97068e1e-136b-41a3-ac13-84d1e3b28b1f",
   "metadata": {},
   "source": [
    "In the cell below seperate the features from the target (`type`)"
   ]
  },
  {
   "cell_type": "code",
   "execution_count": null,
   "id": "7a22ac98-911f-472f-bb40-54a345276880",
   "metadata": {},
   "outputs": [],
   "source": [
    "# YOUR CODE HERE"
   ]
  },
  {
   "cell_type": "code",
   "execution_count": null,
   "id": "aaeedf3c-a9c7-4778-b202-7245f4e8930d",
   "metadata": {},
   "outputs": [],
   "source": []
  },
  {
   "cell_type": "markdown",
   "id": "803e14c8-9cff-4f30-b79c-d5ac822b90d1",
   "metadata": {},
   "source": [
    "Now fit a Decision tree to the features and the target."
   ]
  },
  {
   "cell_type": "code",
   "execution_count": null,
   "id": "e369c8e1-1789-4422-85ea-e6576df8b316",
   "metadata": {},
   "outputs": [],
   "source": [
    "# Import the decision tree model\n",
    "\n",
    "# Fit the model to the data\n"
   ]
  },
  {
   "cell_type": "markdown",
   "id": "96f941d0-e34c-44ad-9eb1-6649873fb717",
   "metadata": {},
   "source": [
    "In the cell below, we have imported `plot_tree` from sklearn. Please use this function to plot the decision tree model."
   ]
  },
  {
   "cell_type": "code",
   "execution_count": 7,
   "id": "2010de3b-6cfb-4e93-9111-1e3e510dec30",
   "metadata": {},
   "outputs": [],
   "source": [
    "from sklearn.tree import plot_tree"
   ]
  },
  {
   "cell_type": "code",
   "execution_count": null,
   "id": "ae4cb8de-7d1d-4dc8-ab11-a1414329b0de",
   "metadata": {},
   "outputs": [],
   "source": [
    "# YOUR CODE HERE"
   ]
  },
  {
   "cell_type": "markdown",
   "id": "954ab388-9254-4758-b0fb-f84278bf938c",
   "metadata": {},
   "source": [
    "Below we import the titanic dataset"
   ]
  },
  {
   "cell_type": "code",
   "execution_count": 184,
   "id": "75ddb6fd-5892-4692-a3e7-4b0e75ac394c",
   "metadata": {},
   "outputs": [],
   "source": [
    "titanic = pd.read_csv('data/titanic.csv')"
   ]
  },
  {
   "cell_type": "markdown",
   "id": "32d35de4-c2ce-4969-8322-51049f997e71",
   "metadata": {},
   "source": [
    "Next we drop columns that are not useful for prediction"
   ]
  },
  {
   "cell_type": "code",
   "execution_count": 163,
   "id": "50eec848-0740-4174-8ff4-160328dedb89",
   "metadata": {},
   "outputs": [],
   "source": [
    "drop = ['Name','PassengerId', 'Ticket', 'Cabin']\n",
    "\n",
    "data = raw.drop(drop, axis=1)\n",
    "data = data.dropna()"
   ]
  },
  {
   "cell_type": "markdown",
   "id": "a35168b3-b9aa-4e84-8c3d-d1fbd79aee71",
   "metadata": {},
   "source": [
    "Now we seperate our features from our target"
   ]
  },
  {
   "cell_type": "code",
   "execution_count": 164,
   "id": "960d2c1d-3928-4556-9ff7-7d73739bd206",
   "metadata": {},
   "outputs": [],
   "source": [
    "X = data.drop('Survived', axis = 1)\n",
    "y = data.Survived"
   ]
  },
  {
   "cell_type": "markdown",
   "id": "37eb1b46-22f9-4ec4-8aef-5de594811f40",
   "metadata": {},
   "source": [
    "In the cell below create a train test split\n",
    "\n",
    "* Set random_state to `2021`"
   ]
  },
  {
   "cell_type": "code",
   "execution_count": null,
   "id": "77778b4c-64c6-4fa3-a48f-44b06a72e008",
   "metadata": {},
   "outputs": [],
   "source": []
  },
  {
   "cell_type": "markdown",
   "id": "09e2b3a3-35fe-40ef-bd20-7fde13ad9b43",
   "metadata": {},
   "source": [
    "In the cell below, we preprocess the data for modeling. "
   ]
  },
  {
   "cell_type": "code",
   "execution_count": 166,
   "id": "c5cfbb41-b3df-46d3-b986-91b16db04e82",
   "metadata": {},
   "outputs": [],
   "source": [
    "# Run this cell unchanged\n",
    "# ================== One Hot Encoding Functions ===========================\n",
    "\n",
    "def ohe_transform(encoder, data):\n",
    "    # Transform categorical data\n",
    "    encoded = encoder.transform(data)\n",
    "    # Collect encoded feature_names\n",
    "    encoded_features = encoder.get_feature_names(data.columns)\n",
    "    encoded = pd.DataFrame(encoded, \n",
    "                           columns=encoded_features)\n",
    "    return encoded\n",
    "\n",
    "def concat_encoded(model_data, model_target, encoded_data):\n",
    "    # Create copies of modeling data\n",
    "    data = model_data.copy()\n",
    "    target = model_target.copy()\n",
    "    # Reset the index for all datasets\n",
    "    data = data.reset_index(drop=True)\n",
    "    target = target.reset_index(drop=True)\n",
    "    encoded_data = encoded_data.reset_index(drop=True)\n",
    "    # Concatenate the encoded data to the modeling data\n",
    "    concat = pd.concat([data, encoded_data], axis = 1)\n",
    "    \n",
    "    return concat, target\n",
    "\n",
    "# ================== One Hot Encoder Preprocessing ===========================\n",
    "\n",
    "from sklearn.preprocessing import OneHotEncoder\n",
    "\n",
    "# Initialize encoder\n",
    "encoder = OneHotEncoder(sparse = False)\n",
    "# Isolate categorical features\n",
    "train_cat = X_train.select_dtypes('object')\n",
    "test_cat = X_test.select_dtypes('object')\n",
    "# Fit encoder\n",
    "encoder.fit(train_cat)\n",
    "\n",
    "# Encode categorical features\n",
    "train_encoded = ohe_transform(encoder, train_cat)\n",
    "test_encoded = ohe_transform(encoder, test_cat)\n",
    "\n",
    "# Drop categorical features from modeling data\n",
    "X_train_no_categoricals = X_train.drop(train_cat.columns, axis = 1)\n",
    "X_test_no_catigoricals = X_test.drop(test_cat.columns, axis = 1)\n",
    "\n",
    "# Add encoded features to modeling data\n",
    "X_train, y_train = concat_encoded(X_train_no_categoricals,\n",
    "                                 y_train, train_encoded)\n",
    "X_test, y_test = concat_encoded(X_test_no_catigoricals,\n",
    "                                 y_test, test_encoded)"
   ]
  },
  {
   "cell_type": "markdown",
   "id": "a96afe76-ff17-44b1-9417-273c99835f65",
   "metadata": {},
   "source": [
    "In the cell below, fit a Decision Tree model to the training data, and generate an f1 score for the training data. "
   ]
  },
  {
   "cell_type": "code",
   "execution_count": 168,
   "id": "5cb4de40-21d1-44a4-b7ca-5ab24b745d6d",
   "metadata": {},
   "outputs": [],
   "source": [
    "# YOUR CODE HERE"
   ]
  },
  {
   "cell_type": "markdown",
   "id": "153b91a1-dd25-4c32-b063-8e3ee0bd6a2e",
   "metadata": {},
   "source": [
    "Now generate the average 5-fold cross validation on the training data. \n",
    "\n",
    "> There are multiple ways to do this. One option is sklearn's `cross_val_score`."
   ]
  },
  {
   "cell_type": "code",
   "execution_count": 169,
   "id": "ca5cf777-d843-4e5a-86c7-f3c601508926",
   "metadata": {},
   "outputs": [],
   "source": [
    "# YOUR CODE HERE"
   ]
  },
  {
   "cell_type": "markdown",
   "id": "86782f94-62d9-4caf-bcc8-07be6e400080",
   "metadata": {},
   "source": [
    "How is the model's performance?"
   ]
  },
  {
   "cell_type": "code",
   "execution_count": null,
   "id": "c59e5c8c-3122-4f08-a675-beddff93d076",
   "metadata": {},
   "outputs": [],
   "source": []
  },
  {
   "cell_type": "markdown",
   "id": "a27fa63c-1e8b-4982-b768-15c31d8bf060",
   "metadata": {},
   "source": [
    "Next, loop over a range of integers between 1 and 10 and fit a decision tree model, setting the integer as the max depth for the model. Be sure to set `random_state` to `2021`."
   ]
  },
  {
   "cell_type": "code",
   "execution_count": 178,
   "id": "da83f44e-afb8-48e3-942b-9c41930dfa6e",
   "metadata": {},
   "outputs": [],
   "source": [
    "# Create a list of integers\n",
    "depths = range(1, 11)\n",
    "\n",
    "# Create lists for train and validation scores\n",
    "train = []\n",
    "val = []\n",
    "\n",
    "# Loop over the integers\n",
    "for depth in depths:\n",
    "    # Create a decision tree model\n",
    "    # YOUR CODE HERE\n",
    "    \n",
    "    # Fit the model to the training data\n",
    "    # YOUR CODE HERE\n",
    "    \n",
    "    # Score the model on the training data\n",
    "    # using f1 score as the metric\n",
    "    # YOUR CODE HERE\n",
    "    \n",
    "    # Calculate the average five fold validation \n",
    "    # score using the training data\n",
    "    # YOUR CODE HERE\n",
    "    \n",
    "    # Append the scores to the train and val lists\n",
    "    # YOUR CODE HERE"
   ]
  },
  {
   "cell_type": "markdown",
   "id": "3273e4aa-f2b3-4f15-8834-d3841f06fd5b",
   "metadata": {},
   "source": [
    "Now plot the results, setting the integers as the x axis and the f1 scores as the y axis. "
   ]
  },
  {
   "cell_type": "code",
   "execution_count": 181,
   "id": "5c725a25-106f-44d2-9e65-660377a4cf01",
   "metadata": {},
   "outputs": [
    {
     "data": {
      "image/png": "[encoded data removed]",
      "text/plain": [
       "<Figure size 432x288 with 1 Axes>"
      ]
     },
     "metadata": {
      "needs_background": "light"
     },
     "output_type": "display_data"
    }
   ],
   "source": [
    "# YOUR CODE HERE"
   ]
  },
  {
   "cell_type": "markdown",
   "id": "66aa72d4-1145-4812-ad31-99fdfa28775a",
   "metadata": {},
   "source": [
    "What is the best max-depth for this data? How does this relate to bias/variance?"
   ]
  },
  {
   "cell_type": "code",
   "execution_count": null,
   "id": "a5a63173-7c8d-48ab-b7bb-f97f34f4981e",
   "metadata": {},
   "outputs": [],
   "source": []
  },
  {
   "cell_type": "markdown",
   "id": "61dc3a5a-b3c9-4143-b00a-378105f24773",
   "metadata": {},
   "source": [
    "Create a new model with max depth set the optimal setting. Fit on the training data and score on both the training and the test. Evaluate the model's performance. "
   ]
  },
  {
   "cell_type": "code",
   "execution_count": null,
   "id": "3df2f66e-e7d4-4e24-8cff-65670ea97461",
   "metadata": {},
   "outputs": [],
   "source": [
    "# YOUR CODE HERE"
   ]
  }
 ],
 "metadata": {
  "kernelspec": {
   "display_name": "Python 3",
   "language": "python",
   "name": "python3"
  },
  "language_info": {
   "codemirror_mode": {
    "name": "ipython",
    "version": 3
   },
   "file_extension": ".py",
   "mimetype": "text/x-python",
   "name": "python",
   "nbconvert_exporter": "python",
   "pygments_lexer": "ipython3",
   "version": "3.7.4"
  }
 },
 "nbformat": 4,
 "nbformat_minor": 5
}
